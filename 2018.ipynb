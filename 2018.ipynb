{
 "cells": [
  {
   "cell_type": "code",
   "execution_count": 102,
   "metadata": {
    "collapsed": true
   },
   "outputs": [],
   "source": [
    "import os\n",
    "os.chdir('C:/code/')\n",
    "data = open('statdata.txt',encoding='utf-8').read()\n",
    "import re\n",
    "import datetime\n"
   ]
  },
  {
   "cell_type": "code",
   "execution_count": 104,
   "metadata": {
    "collapsed": true
   },
   "outputs": [],
   "source": [
    "dlst = data.split('\\n')\n",
    "log = {}  # key map\n",
    "stflag = {\"周一\": 1, \"周二\": 2, \"周三\": 3, \"周四\": 4,\n",
    "          \"周五\": 5, \"周六\": 6, \"周日\": 7}\n",
    "wtime = {}  # week map {0:{1:..2:..},1:...}\n",
    "dtime = {}  # day map {1:..,2:...}\n",
    "def isert(d, k, v):\n",
    "    if k not in d:\n",
    "        d[k] = 0\n",
    "    d[k] += v\n",
    "\n",
    "cur = None\n",
    "for r in dlst:\n",
    "    if len(r) < 2:\n",
    "        continue\n",
    "    \n",
    "    if r[:2] in stflag:\n",
    "        wk = r[:2]\n",
    "        if wk == \"周一\" and len(dtime) > 0:  # 记录上一周的数据\n",
    "            #print(r)\n",
    "            idx = len(wtime)\n",
    "            wtime[idx] = dtime\n",
    "            dtime = {}\n",
    "        dtime[stflag[wk]] = {}\n",
    "        cur = dtime[stflag[wk]]\n",
    "    if ':' in r and '-' in r and cur is not None:\n",
    "        #try:\n",
    "        t, c = parse_str_time(r)\n",
    "        isert(cur, c, t)\n",
    "if len(dtime) > 0:\n",
    "    wtime[len(wtime)] = dtime\n"
   ]
  },
  {
   "cell_type": "code",
   "execution_count": 88,
   "metadata": {
    "collapsed": true
   },
   "outputs": [
    {
     "data": {
      "text/plain": [
       "(20, '晒太阳散步')"
      ]
     },
     "execution_count": 88,
     "metadata": {},
     "output_type": "execute_result"
    }
   ],
   "source": [
    "def parse_str_time(s):\n",
    "    import datetime\n",
    "    pat = re.compile(r\"(\\d+:\\d+)\\D*-\\D*(\\d+:\\d+)\\s*(.*)\")\n",
    "    lst = pat.search(s).groups()\n",
    "    \n",
    "    if len(lst) != 3:\n",
    "        raise Exception(\"%s has format error\" % s)\n",
    "    content = lst[2]\n",
    "    try:\n",
    "        t1 = datetime.datetime.strptime(lst[0], \"%H:%M\")\n",
    "        t2 = datetime.datetime.strptime(lst[1], \"%H:%M\")\n",
    "    except:\n",
    "        raise Exception(\"%s has time error\" % s)\n",
    "    tm = (t2 - t1).seconds//60\n",
    "    return tm, content\n",
    "parse_str_time(\"11:40-12:00 晒太阳散步\")"
   ]
  },
  {
   "cell_type": "code",
   "execution_count": 111,
   "metadata": {
    "collapsed": true
   },
   "outputs": [],
   "source": [
    "all_log = {}\n",
    "def isert_retk(d, k, v):\n",
    "    if k not in d:\n",
    "        d[k] = 0\n",
    "    d[k] += v\n",
    "    return k\n",
    "\n",
    "sents = set([isert_retk(all_log, k, wtime[w][d][k])\n",
    "             for w in wtime\n",
    "             for d in wtime[w]\n",
    "             for k in wtime[w][d]])\n"
   ]
  },
  {
   "cell_type": "code",
   "execution_count": 124,
   "metadata": {
    "collapsed": true
   },
   "outputs": [],
   "source": [
    "import math\n",
    "\n",
    "wpow = {}\n",
    "powtrans = lambda wf: 1 - math.exp(-wf / 100.)\n",
    "\n",
    "words = set([isert_retk(wpow, w, powtrans(all_log[sent]))\n",
    "             for sent in sents\n",
    "             for w in sent])\n"
   ]
  },
  {
   "cell_type": "code",
   "execution_count": 122,
   "metadata": {},
   "outputs": [
    {
     "data": {
      "text/plain": [
       "0.09516258196404048"
      ]
     },
     "execution_count": 122,
     "metadata": {},
     "output_type": "execute_result"
    }
   ],
   "source": [
    "import math\n",
    "1-math.exp(-10/100)"
   ]
  },
  {
   "cell_type": "code",
   "execution_count": 126,
   "metadata": {},
   "outputs": [],
   "source": [
    "lst_words = list(words)\n",
    "words_embd = {w:lst_words.index(w) for w in words}"
   ]
  },
  {
   "cell_type": "code",
   "execution_count": 139,
   "metadata": {},
   "outputs": [],
   "source": [
    "import numpy as np\n",
    "lst_sents = list(sents)\n",
    "sent_vec = []\n",
    "sent_vec_mesh = {}\n",
    "for sent in all_log:\n",
    "    temp = np.zeros(len(words))\n",
    "    for w in sent:\n",
    "        temp[words_embd[w]] += wpow[w]\n",
    "    sent_vec_mesh[sent] = len(sent_vec)\n",
    "    sent_vec.append(temp)\n"
   ]
  },
  {
   "cell_type": "code",
   "execution_count": 142,
   "metadata": {},
   "outputs": [
    {
     "data": {
      "text/plain": [
       "KMeans(algorithm='auto', copy_x=True, init='k-means++', max_iter=300,\n    n_clusters=8, n_init=10, n_jobs=1, precompute_distances='auto',\n    random_state=None, tol=0.0001, verbose=0)"
      ]
     },
     "execution_count": 142,
     "metadata": {},
     "output_type": "execute_result"
    }
   ],
   "source": [
    "from sklearn.cluster import KMeans\n",
    "kms = KMeans()\n",
    "kms.fit(sent_vec)   \n"
   ]
  },
  {
   "cell_type": "code",
   "execution_count": 143,
   "metadata": {
    "collapsed": true
   },
   "outputs": [],
   "source": [
    "res = kms.predict(sent_vec)\n",
    "clst_ans = {i:[] for i in range(kms.n_clusters)}\n",
    "for c,s in zip(res, lst_sents):\n",
    "    clst_ans[c].append(s)"
   ]
  },
  {
   "cell_type": "code",
   "execution_count": 140,
   "metadata": {},
   "outputs": [],
   "source": [
    ""
   ]
  },
  {
   "cell_type": "code",
   "execution_count": 165,
   "metadata": {
    "collapsed": true
   },
   "outputs": [],
   "source": [
    "rules = {'学习': ['课', '学习', '深度', 'DLP', '作业', 'ppt', '英语'],\n",
    "         '论文': ['论文', '开会', '讨论', '研', 'AI'],\n",
    "         '阅读': ['<', '《'],\n",
    "         '文娱': ['运动', '练', '骑行', 'FGO'],\n",
    "         '项目': ['代码', '项目', '竞赛'],\n",
    "         '其他': []\n",
    "         }\n",
    "def judge_from_rules(sent):\n",
    "    for r in rules:\n",
    "        for it in rules[r]:\n",
    "            if it in sent:\n",
    "                return r\n",
    "    return '其他'\n",
    "\n",
    "def create_rule_clf(dct):\n",
    "    rule_clf = {}\n",
    "    for sent in dct:\n",
    "        isert(rule_clf,\n",
    "              judge_from_rules(sent), dct[sent])\n",
    "    return rule_clf"
   ]
  },
  {
   "cell_type": "code",
   "execution_count": 172,
   "metadata": {
    "collapsed": true
   },
   "outputs": [],
   "source": [
    "# 每天的五类变化曲线图\n",
    "plt_x = []\n",
    "plt_y = {r: [] for r in rules}\n",
    "plt.figure(figsize=(10, 5))\n",
    "for w in wtime:\n",
    "    for d in wtime[w]:\n",
    "        clf = create_rule_clf(wtime[w][d])\n",
    "        plt_x.append(len(plt_x))\n",
    "        for c in rules:\n",
    "            if c in clf:\n",
    "                plt_y[c].append(clf[c])\n",
    "            else:\n",
    "                plt_y[c].append(0)\n",
    "import matplotlib.pyplot as plt\n",
    "\n",
    "color = ['r', 'g', 'b', 'y', 'gold', 'lightskyblue']\n",
    "for ky, c in zip(plt_y, color):\n",
    "    plt.plot(plt_x, plt_y[ky], color=c)\n",
    "#plt.show()\n",
    "plt.savefig('temp.png')"
   ]
  },
  {
   "cell_type": "code",
   "execution_count": 201,
   "metadata": {
    "collapsed": true
   },
   "outputs": [
    {
     "data": {
      "image/png": "[encoded data removed]",
      "text/plain": [
       "<matplotlib.figure.Figure at 0xcb228a89e8>"
      ]
     },
     "metadata": {},
     "output_type": "display_data"
    }
   ],
   "source": [
    "# -*- coding: utf-8 -*-\n",
    "import matplotlib.pyplot as plt\n",
    "import numpy as np\n",
    "# 中文乱码解决：\n",
    "from pylab import mpl\n",
    "mpl.rcParams['font.sans-serif'] = ['SimHei']\n",
    "\n",
    "# 按周分的条状堆叠图\n",
    "def proc_wtime(wtime):\n",
    "    res = {}\n",
    "    for d in wtime:\n",
    "        for s in wtime[d]:\n",
    "            isert(res, s, wtime[d][s])\n",
    "    return res\n",
    "def get_wclf_plot(all_log, savepath):# 这里的all_log是基于周的不是纯字典\n",
    "    colors = {'学习': 'g',\n",
    "              '论文': 'r',\n",
    "              '阅读': 'gold',\n",
    "              '文娱': 'y',\n",
    "              '项目': 'b'}#,\n",
    "              #'其他': 'b'}\n",
    "    plt.figure(figsize=(len(all_log)//2, len(colors)*2))\n",
    "    plt_x = []\n",
    "    plt_y = {r: [] for r in colors}\n",
    "    for w in all_log:\n",
    "        dct = proc_wtime(all_log[w])\n",
    "        res = create_rule_clf(dct)\n",
    "        plt_x.append(len(plt_x))\n",
    "        for r in colors:\n",
    "            if r not in res:\n",
    "                plt_y[r].append(1)\n",
    "            else:\n",
    "                plt_y[r].append(res[r])\n",
    "    idx = np.arange(len(plt_x))\n",
    "    for ky in plt_y:\n",
    "        plt.bar(idx, plt_y[ky],\n",
    "                color=colors[ky], label=ky)\n",
    "    plt.legend(prop={'size':20})\n",
    "    plt.title('2018年4~12月事件统计（周划分）')\n",
    "    plt.savefig(savepath)\n",
    "get_wclf_plot(wtime,\"F:/data/bar.png\")"
   ]
  },
  {
   "cell_type": "code",
   "execution_count": 203,
   "metadata": {},
   "outputs": [
    {
     "name": "stdout",
     "output_type": "stream",
     "text": [
      "文娱 115.7\n阅读 90.36666666666666\n其他 443.5\n学习 400.65\n项目 570.0166666666667\n论文 109.0\n"
     ]
    }
   ],
   "source": [
    "rule_clf = create_rule_clf(all_log) \n",
    "for it in rule_clf:\n",
    "    print(it,rule_clf[it]/60.)"
   ]
  },
  {
   "cell_type": "code",
   "execution_count": 214,
   "metadata": {},
   "outputs": [],
   "source": [
    "# 画词云\n",
    "from wordcloud import WordCloud\n",
    "import jieba\n",
    "mytext = \"\"\n",
    "for t in all_log:\n",
    "    if '睡觉' in t:\n",
    "        continue\n",
    "    mytext += (' '.join(jieba.cut(t)) + ' ') * all_log[t]\n",
    "\n",
    "cloud = WordCloud(font_path=\"F:/data/simhei.ttf\",\n",
    "                  background_color='white',\n",
    "                  max_words=100,\n",
    "                  max_font_size=35)\n",
    "wordcloud = cloud.generate(mytext)\n",
    "\n",
    "import matplotlib.pyplot as plt\n",
    "plt.figure(figsize=(25, 20))\n",
    "plt.imshow(wordcloud, interpolation='bilinear')\n",
    "plt.axis(\"off\")\n",
    "plt.savefig(\"F:/data/wd.png\")\n"
   ]
  },
  {
   "cell_type": "code",
   "execution_count": 234,
   "metadata": {
    "collapsed": true
   },
   "outputs": [
    {
     "name": "stdout",
     "output_type": "stream",
     "text": [
      "C:/code/main.py\nC:/code/temp.py\nC:/code/temp2.py\nC:/code/test (2).py\nC:/code\\FIS\\FIS_keyword_scan\\include/device_thread.cpp\n"
     ]
    },
    {
     "name": "stdout",
     "output_type": "stream",
     "text": [
      "C:/code\\FIS\\FIS_keyword_scan\\src/BoolMatchLog.cpp\nC:/code\\FIS\\FIS_keyword_scan\\src/BoolParseTree.cpp\nC:/code\\FIS\\FIS_keyword_scan\\src/device_lib.py\nC:/code\\FIS\\FIS_keyword_scan\\src/device_thread.cpp\nC:/code\\FIS\\FIS_keyword_scan\\src/jsoncpp.cpp\nC:/code\\FIS\\FIS_keyword_scan\\src/kafka.cpp\nC:/code\\FIS\\FIS_keyword_scan\\src/keyword_scan.cpp\nC:/code\\FIS\\FIS_keyword_scan\\src/main.cpp\nC:/code\\FIS\\FIS_keyword_scan\\src/main_10_31.cpp\nC:/code\\FIS\\FIS_keyword_scan\\src/main_11_12.cpp\nC:/code\\FIS\\FIS_keyword_scan\\src/temp.cpp\nC:/code\\FIS\\FIS_keyword_scan\\src/test.cpp\nC:/code\\FIS\\FIS_keyword_scan\\src/test.py\nC:/code\\FIS\\FIS_keyword_scan\\src/testUniversalBoolMatch.cpp\nC:/code\\FIS\\FIS_keyword_scan\\src/test_json.cpp\nC:/code\\FIS\\FIS_keyword_scan\\src/test_kafka.cpp\nC:/code\\FIS\\FIS_keyword_scan\\src/test_msgpack.cpp\nC:/code\\FIS\\FIS_keyword_scan\\src/UniversalBoolMatch.cpp\nC:/code\\FIS\\FIS_newLogger/complete_alarm_all.py\nC:/code\\FIS\\FIS_newLogger/data_receiver.py\nC:/code\\FIS\\FIS_newLogger/db_sa_mysql.py\nC:/code\\FIS\\FIS_newLogger/device_lib.py\nC:/code\\FIS\\FIS_newLogger/FIS_Logger.py\nC:/code\\FIS\\FIS_newLogger/log_setting.py\nC:/code\\FIS\\FIS_newLogger/tracker_server.py\nC:/code\\FIS\\mail/debug_avro.py\nC:/code\\FIS\\mail/FIS_Logger.py\nC:/code\\FIS\\mail/FIS_Recver.py\nC:/code\\FIS\\mail/log_setting.py\nC:/code\\FIS\\mail/tracker_server.py\nC:/code\\FIS\\mail\\client/RevClient.py\nC:/code\\FIS\\mail\\client/SendClient.py\nC:/code\\FIS\\mail\\client/__init__.py\nC:/code\\FIS\\mail\\tools/complete_alarm_all.py\nC:/code\\FIS\\mail\\tools/db_sa_mysql.py\nC:/code\\FIS\\mail\\tools/device_lib.py\nC:/code\\FIS\\mail\\tools/fastavro_util.py\nC:/code\\FIS\\mail\\tools/__init__.py\nC:/code\\mota/calcu.py\nC:/code\\polaris/116.cpp\nC:/code\\polaris/918.cpp\nC:/code\\polaris/main.py\nC:/code\\polaris/mymodel_BiCNN-MI.py\nC:/code\\polaris/naive_simCNN.py\nC:/code\\polaris/test.py\nC:/code\\polaris/timp.py\nC:/code\\股票预测/code.py\nC:/code\\股票预测/rubbish.py\nC:/code\\股票预测\\utools/pdcut.py\nC:/code\\股票预测\\utools/pdmake.py\nC:/code\\股票预测\\utools/spec.py\nC:/code\\股票预测\\utools/__init__.py\n"
     ]
    }
   ],
   "source": [
    "def get_code_lines(path):\n",
    "    import os\n",
    "    def count_on_file(fname):\n",
    "        print(fname)\n",
    "        try:\n",
    "            rlines = open(fname, encoding='utf-8').readlines()\n",
    "        except:\n",
    "            try:\n",
    "                rlines = open(fname, encoding='gbk').readlines()\n",
    "            except:\n",
    "                try:\n",
    "                    rlines = open(fname).readlines()\n",
    "                except Exception as e:\n",
    "                    print(\"error\", e)\n",
    "                    return 0\n",
    "            \n",
    "        ct = 0\n",
    "        for r in rlines:\n",
    "            if len(r) > 1:\n",
    "                ct += 1\n",
    "        return ct\n",
    "\n",
    "    endflg = {'.cpp', '.py'}\n",
    "    res = {k:0 for k in endflg}\n",
    "    for p, _, fs in os.walk(path):\n",
    "        for f in fs:\n",
    "            for e in endflg:\n",
    "                if f[-len(e):] == e:\n",
    "                    res[e] += count_on_file(p+'/'+f)\n",
    "                    break\n",
    "    return res\n",
    "res = get_code_lines('C:/code')"
   ]
  },
  {
   "cell_type": "code",
   "execution_count": 236,
   "metadata": {},
   "outputs": [
    {
     "name": "stdout",
     "output_type": "stream",
     "text": [
      "{'.py': 9761, '.cpp': 8524}\n"
     ]
    }
   ],
   "source": [
    "print(res)"
   ]
  },
  {
   "cell_type": "code",
   "execution_count": null,
   "metadata": {},
   "outputs": [],
   "source": []
  }
 ],
 "metadata": {
  "kernelspec": {
   "display_name": "Python 2",
   "language": "python",
   "name": "python2"
  },
  "language_info": {
   "codemirror_mode": {
    "name": "ipython",
    "version": 2
   },
   "file_extension": ".py",
   "mimetype": "text/x-python",
   "name": "python",
   "nbconvert_exporter": "python",
   "pygments_lexer": "ipython2",
   "version": "2.7.6"
  }
 },
 "nbformat": 4,
 "nbformat_minor": 0
}
